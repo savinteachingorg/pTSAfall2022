{
 "cells": [
  {
   "cell_type": "markdown",
   "id": "46f65f20",
   "metadata": {},
   "source": [
    "# Introduction to jupyter notebooks"
   ]
  },
  {
   "cell_type": "code",
   "execution_count": 1,
   "id": "fa366d40",
   "metadata": {},
   "outputs": [],
   "source": [
    "import numpy as np\n",
    "import matplotlib.pyplot as plt\n",
    "import pandas as pd"
   ]
  },
  {
   "cell_type": "code",
   "execution_count": 2,
   "id": "d47cc19e",
   "metadata": {},
   "outputs": [],
   "source": [
    "df = pd.read_csv('data.csv', index_col=0)"
   ]
  },
  {
   "cell_type": "code",
   "execution_count": 3,
   "id": "6a5a2be1",
   "metadata": {},
   "outputs": [
    {
     "data": {
      "text/html": [
       "<div>\n",
       "<style scoped>\n",
       "    .dataframe tbody tr th:only-of-type {\n",
       "        vertical-align: middle;\n",
       "    }\n",
       "\n",
       "    .dataframe tbody tr th {\n",
       "        vertical-align: top;\n",
       "    }\n",
       "\n",
       "    .dataframe thead th {\n",
       "        text-align: right;\n",
       "    }\n",
       "</style>\n",
       "<table border=\"1\" class=\"dataframe\">\n",
       "  <thead>\n",
       "    <tr style=\"text-align: right;\">\n",
       "      <th></th>\n",
       "      <th>x</th>\n",
       "    </tr>\n",
       "  </thead>\n",
       "  <tbody>\n",
       "    <tr>\n",
       "      <th>0</th>\n",
       "      <td>0.306093</td>\n",
       "    </tr>\n",
       "    <tr>\n",
       "      <th>1</th>\n",
       "      <td>0.779049</td>\n",
       "    </tr>\n",
       "    <tr>\n",
       "      <th>2</th>\n",
       "      <td>-0.468750</td>\n",
       "    </tr>\n",
       "    <tr>\n",
       "      <th>3</th>\n",
       "      <td>0.320573</td>\n",
       "    </tr>\n",
       "    <tr>\n",
       "      <th>4</th>\n",
       "      <td>0.424830</td>\n",
       "    </tr>\n",
       "    <tr>\n",
       "      <th>...</th>\n",
       "      <td>...</td>\n",
       "    </tr>\n",
       "    <tr>\n",
       "      <th>9995</th>\n",
       "      <td>0.037901</td>\n",
       "    </tr>\n",
       "    <tr>\n",
       "      <th>9996</th>\n",
       "      <td>0.170393</td>\n",
       "    </tr>\n",
       "    <tr>\n",
       "      <th>9997</th>\n",
       "      <td>-0.744192</td>\n",
       "    </tr>\n",
       "    <tr>\n",
       "      <th>9998</th>\n",
       "      <td>0.609715</td>\n",
       "    </tr>\n",
       "    <tr>\n",
       "      <th>9999</th>\n",
       "      <td>-1.550755</td>\n",
       "    </tr>\n",
       "  </tbody>\n",
       "</table>\n",
       "<p>10000 rows × 1 columns</p>\n",
       "</div>"
      ],
      "text/plain": [
       "             x\n",
       "0     0.306093\n",
       "1     0.779049\n",
       "2    -0.468750\n",
       "3     0.320573\n",
       "4     0.424830\n",
       "...        ...\n",
       "9995  0.037901\n",
       "9996  0.170393\n",
       "9997 -0.744192\n",
       "9998  0.609715\n",
       "9999 -1.550755\n",
       "\n",
       "[10000 rows x 1 columns]"
      ]
     },
     "execution_count": 3,
     "metadata": {},
     "output_type": "execute_result"
    }
   ],
   "source": [
    "df"
   ]
  },
  {
   "cell_type": "code",
   "execution_count": 5,
   "id": "ecbf56d8",
   "metadata": {},
   "outputs": [],
   "source": [
    "x_pd = df[\"x\"] # Alternatively, x_pd = data.x\n",
    "x_np = x_pd.to_numpy()"
   ]
  },
  {
   "cell_type": "code",
   "execution_count": 6,
   "id": "d1f62b4d",
   "metadata": {},
   "outputs": [
    {
     "data": {
      "text/plain": [
       "[<matplotlib.lines.Line2D at 0x119cd1360>]"
      ]
     },
     "execution_count": 6,
     "metadata": {},
     "output_type": "execute_result"
    },
    {
     "data": {
      "image/png": "[encoded data removed]",
      "text/plain": [
       "<Figure size 432x288 with 1 Axes>"
      ]
     },
     "metadata": {
      "needs_background": "light"
     },
     "output_type": "display_data"
    }
   ],
   "source": [
    "plt.plot(x_np)"
   ]
  },
  {
   "cell_type": "markdown",
   "id": "3ad51596",
   "metadata": {},
   "source": [
    "# Competition"
   ]
  },
  {
   "cell_type": "code",
   "execution_count": 11,
   "id": "3c66b75c",
   "metadata": {},
   "outputs": [],
   "source": [
    "def mean(x):\n",
    "    \"\"\"\n",
    "    Calculates the mean of x\n",
    "    \"\"\"\n",
    "    # YOUR CODE HERE\n",
    "    return 0\n",
    "\n",
    "def variance(x):\n",
    "    \"\"\"\n",
    "    Calculates the variance of x\n",
    "    \"\"\"\n",
    "    # YOUR CODE HERE\n",
    "    return 0"
   ]
  },
  {
   "cell_type": "code",
   "execution_count": 10,
   "id": "535fc7db",
   "metadata": {},
   "outputs": [
    {
     "name": "stdout",
     "output_type": "stream",
     "text": [
      "Computing the mean took 0.046 milliseconds on average\n",
      "Computing the mean took 0.073 milliseconds on average\n"
     ]
    }
   ],
   "source": [
    "import time\n",
    "t_mean, t_var = 0, 0\n",
    "for i in range(1000):\n",
    "    # Times the mean computation\n",
    "    start_time = time.time()\n",
    "    my_mean = mean(x_np)\n",
    "    t_mean += time.time() - start_time\n",
    "    true_mean = np.mean(x_np)\n",
    "    assert np.round(my_mean - true_mean, 6) == 0, \"mean not returning correct value\"\n",
    "    # Times the variance computation\n",
    "    start_time = time.time()\n",
    "    my_var = variance(x_np)\n",
    "    t_var += time.time() - start_time\n",
    "    true_var = np.var(x_np)\n",
    "    assert np.round(my_var - true_var, 6) == 0, \"variance not returning correct value\"\n",
    "\n",
    "print(\"Computing the mean took %s milliseconds on average\" % np.round(t_mean, 3))\n",
    "print(\"Computing the mean took %s milliseconds on average\" % np.round(t_var, 3))"
   ]
  },
  {
   "cell_type": "code",
   "execution_count": null,
   "id": "e901ffdd",
   "metadata": {},
   "outputs": [],
   "source": []
  }
 ],
 "metadata": {
  "kernelspec": {
   "display_name": "Python 3.10.2 64-bit",
   "language": "python",
   "name": "python3"
  },
  "language_info": {
   "codemirror_mode": {
    "name": "ipython",
    "version": 3
   },
   "file_extension": ".py",
   "mimetype": "text/x-python",
   "name": "python",
   "nbconvert_exporter": "python",
   "pygments_lexer": "ipython3",
   "version": "3.10.2"
  },
  "vscode": {
   "interpreter": {
    "hash": "aee8b7b246df8f9039afb4144a1f6fd8d2ca17a180786b69acc140d282b71a49"
   }
  }
 },
 "nbformat": 4,
 "nbformat_minor": 5
}
